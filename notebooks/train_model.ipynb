{
 "cells": [
  {
   "cell_type": "code",
   "execution_count": 1,
   "metadata": {},
   "outputs": [],
   "source": [
    "# ! pip install torch transformers datasets tqdm\n",
    "# ! pip install lxml"
   ]
  },
  {
   "cell_type": "code",
   "execution_count": null,
   "metadata": {},
   "outputs": [
    {
     "name": "stderr",
     "output_type": "stream",
     "text": [
      "/Users/collinswestnedge/Desktop/programming/git_hub/.venv/lib/python3.12/site-packages/tqdm/auto.py:21: TqdmWarning: IProgress not found. Please update jupyter and ipywidgets. See https://ipywidgets.readthedocs.io/en/stable/user_install.html\n",
      "  from .autonotebook import tqdm as notebook_tqdm\n"
     ]
    },
    {
     "name": "stdout",
     "output_type": "stream",
     "text": [
      "--------------------------------------------------TRAIN--------------------------------------------------\n",
      "{'input_ids': tensor([[ 1925,  5889,   286,  ...,   274,  2983,  3421],\n",
      "        [  739,  4096,  3403,  ...,   349,   415, 39422],\n",
      "        [  357,    57,  3535,  ..., 10280,    13,   317],\n",
      "        ...,\n",
      "        [ 3060,   653,   286,  ...,  2785,  7016,  1575],\n",
      "        [  284,   262,  5827,  ...,     8,   290,   362],\n",
      "        [   79,     7,    88,  ...,   286, 10897,    12]]), 'attention_mask': tensor([[1, 1, 1,  ..., 1, 1, 1],\n",
      "        [1, 1, 1,  ..., 1, 1, 1],\n",
      "        [1, 1, 1,  ..., 1, 1, 1],\n",
      "        ...,\n",
      "        [1, 1, 1,  ..., 1, 1, 1],\n",
      "        [1, 1, 1,  ..., 1, 1, 1],\n",
      "        [1, 1, 1,  ..., 1, 1, 1]]), 'files': ['batch_0000.pt', 'batch_0000.pt', 'batch_0000.pt', 'batch_0000.pt', 'batch_0000.pt', 'batch_0000.pt', 'batch_0000.pt', 'batch_0000.pt', 'batch_0000.pt', 'batch_0000.pt', 'batch_0000.pt', 'batch_0000.pt', 'batch_0000.pt', 'batch_0000.pt', 'batch_0000.pt', 'batch_0000.pt']}\n",
      "torch.Size([16, 1024])\n"
     ]
    }
   ],
   "source": [
    "import torch, glob\n",
    "from torch.utils.data import IterableDataset, DataLoader\n",
    "from transformers import GPT2LMHeadModel\n",
    "import time \n",
    "\n",
    "class PTIterableDataset(IterableDataset):\n",
    "    def __init__(self, pt_files):\n",
    "        self.pt_files = pt_files\n",
    "\n",
    "    def __iter__(self):\n",
    "        for file_path in self.pt_files:\n",
    "            data = torch.load(file_path)\n",
    "            for i in range(data[\"input_ids\"].size(0)):\n",
    "                sample = {\n",
    "                    \"input_ids\": data[\"input_ids\"][i],\n",
    "                    \"attention_mask\": data[\"attention_mask\"][i],\n",
    "                    \"files\": file_path.split('/')[-1]\n",
    "                }\n",
    "                if data.get(\"labels\") is not None:\n",
    "                    sample[\"labels\"] = data[\"labels\"][i]\n",
    "                yield sample\n",
    "\n",
    "\n",
    "# torch.cuda.empty_cache()\n",
    "\n",
    "batch_size = 16\n",
    "train_files = sorted(glob.glob(\"../processed_batches/train/*.pt\"))\n",
    "test_files = sorted(glob.glob(\"../processed_batches/test/*.pt\"))\n",
    "\n",
    "train_loader = DataLoader(PTIterableDataset(train_files), batch_size=batch_size, num_workers=0)\n",
    "# test_loader = DataLoader(PTIterableDataset(test_files), batch_size=batch_size, num_workers=8)\n",
    "\n",
    "print('-'*50 + 'TRAIN' + '-'*50)\n",
    "train = next(iter(train_loader))\n",
    "print(train)\n",
    "print(train['input_ids'].shape)\n",
    "\n",
    "# print('-'*50 + 'TEST' + '-'*50)\n",
    "# test = next(iter(test_loader))\n",
    "# print(test)\n",
    "# print(test['input_ids'].shape)"
   ]
  },
  {
   "cell_type": "code",
   "execution_count": 3,
   "metadata": {},
   "outputs": [
    {
     "data": {
      "text/plain": [
       "dict_keys(['input_ids', 'attention_mask', 'files'])"
      ]
     },
     "execution_count": 3,
     "metadata": {},
     "output_type": "execute_result"
    }
   ],
   "source": [
    "train.keys()"
   ]
  },
  {
   "cell_type": "code",
   "execution_count": 4,
   "metadata": {},
   "outputs": [],
   "source": [
    "model = torch.compile(GPT2LMHeadModel.from_pretrained(\"openai-community/gpt2\"))\n",
    "device = torch.device(\"cuda\" if torch.cuda.is_available() else \"cpu\")\n",
    "model.to(device)\n",
    "model.train()\n",
    "\n",
    "optimizer = torch.optim.AdamW(\n",
    "    model.parameters(),\n",
    "    lr=1e-4, # 1e-4 for 16x16 # maybe 8e-5 for 1024\n",
    "    )\n",
    "\n",
    "gradient_accumulation_steps = 1\n",
    "num_epochs = 1\n",
    "global_step = 0"
   ]
  },
  {
   "cell_type": "code",
   "execution_count": 5,
   "metadata": {},
   "outputs": [
    {
     "data": {
      "text/plain": [
       "16"
      ]
     },
     "execution_count": 5,
     "metadata": {},
     "output_type": "execute_result"
    }
   ],
   "source": [
    "batch_size * gradient_accumulation_steps"
   ]
  },
  {
   "cell_type": "markdown",
   "metadata": {},
   "source": [
    "### Login to hub to save off model"
   ]
  },
  {
   "cell_type": "code",
   "execution_count": 6,
   "metadata": {},
   "outputs": [],
   "source": [
    "from huggingface_hub import HfApi\n",
    "import getpass\n",
    "import os \n",
    "\n",
    "hf_token = getpass.getpass(\"Enter your Hugging Face token: \")\n",
    "os.environ[\"HF_TOKEN\"] = hf_token\n",
    "repo_name  = \"cwestnedge/gpt2_pubmed_abstracts\"\n",
    "api = HfApi(token=os.environ[\"HF_TOKEN\"])"
   ]
  },
  {
   "cell_type": "code",
   "execution_count": null,
   "metadata": {},
   "outputs": [],
   "source": [
    "def save_checkpoint_metadata(optimizer, step, losses, batch_file, scaler=None):\n",
    "    checkpoint = {\n",
    "        'optimizer': optimizer.state_dict(),\n",
    "        'global_step': step,\n",
    "        'losses': losses,\n",
    "        'batch_file': batch_file,\n",
    "    }\n",
    "\n",
    "    if scaler is not None:\n",
    "        checkpoint['scaler'] = scaler.state_dict()\n",
    "\n",
    "    # checkpoint file locally so we can easily push to hub\n",
    "    torch.save(checkpoint, \"training_state.pt\")\n",
    "\n",
    "\n",
    "def push_model_and_state_to_hub(model, api, step, max_retries=3, retry_delay=10):\n",
    "    for attempt in range(1, max_retries+1):\n",
    "        try:\n",
    "            # FIRST push model to hub FIRST (creates repo if it doesnt exit)\n",
    "            model.push_to_hub(repo_name, commit_message=f\"Checkpoint at step {step}\")\n",
    "\n",
    "            # THEN the training state file\n",
    "            api.upload_file(\n",
    "                path_or_fileobj=\"training_state.pt\",\n",
    "                path_in_repo=\"training_state.pt\",\n",
    "                repo_id=repo_name,\n",
    "                commit_message=f\"Training state at step {step}\"\n",
    "            )\n",
    "            # then push the model\n",
    "        except Exception as e:\n",
    "            print(f\"Attempt {attempt} failed: {e}\")\n",
    "            if attempt == max_retries:\n",
    "                print(\"Max attempts reached. Exiting.\")\n",
    "                raise e\n",
    "            time.sleep(retry_delay)"
   ]
  },
  {
   "cell_type": "markdown",
   "metadata": {},
   "source": [
    "### CPU Implementation (for testing do not recommend)"
   ]
  },
  {
   "cell_type": "code",
   "execution_count": null,
   "metadata": {},
   "outputs": [
    {
     "name": "stderr",
     "output_type": "stream",
     "text": [
      "`loss_type=None` was set in the config but it is unrecognised.Using the default loss: `ForCausalLMLoss`.\n"
     ]
    },
    {
     "name": "stdout",
     "output_type": "stream",
     "text": [
      "Global step 1, loss: 3.5235\n",
      "Pushing to hub...\n"
     ]
    },
    {
     "name": "stderr",
     "output_type": "stream",
     "text": [
      "model.safetensors: 100%|██████████| 498M/498M [00:16<00:00, 30.0MB/s] \n",
      "training_state.pt: 100%|██████████| 996M/996M [00:39<00:00, 25.1MB/s] \n"
     ]
    },
    {
     "name": "stdout",
     "output_type": "stream",
     "text": [
      "pushes completed!\n"
     ]
    },
    {
     "name": "stderr",
     "output_type": "stream",
     "text": [
      "No files have been modified since last commit. Skipping to prevent empty commit.\n",
      "No files have been modified since last commit. Skipping to prevent empty commit.\n"
     ]
    },
    {
     "name": "stdout",
     "output_type": "stream",
     "text": [
      "pushes completed!\n"
     ]
    },
    {
     "name": "stderr",
     "output_type": "stream",
     "text": [
      "No files have been modified since last commit. Skipping to prevent empty commit.\n",
      "No files have been modified since last commit. Skipping to prevent empty commit.\n"
     ]
    },
    {
     "name": "stdout",
     "output_type": "stream",
     "text": [
      "pushes completed!\n",
      "FIRST PASS COMPLETE AT STEP 0\n"
     ]
    },
    {
     "name": "stderr",
     "output_type": "stream",
     "text": [
      "No files have been modified since last commit. Skipping to prevent empty commit.\n",
      "No files have been modified since last commit. Skipping to prevent empty commit.\n"
     ]
    },
    {
     "name": "stdout",
     "output_type": "stream",
     "text": [
      "pushes completed!\n"
     ]
    },
    {
     "name": "stderr",
     "output_type": "stream",
     "text": [
      "No files have been modified since last commit. Skipping to prevent empty commit.\n",
      "No files have been modified since last commit. Skipping to prevent empty commit.\n"
     ]
    },
    {
     "name": "stdout",
     "output_type": "stream",
     "text": [
      "pushes completed!\n"
     ]
    },
    {
     "name": "stderr",
     "output_type": "stream",
     "text": [
      "No files have been modified since last commit. Skipping to prevent empty commit.\n",
      "No files have been modified since last commit. Skipping to prevent empty commit.\n"
     ]
    },
    {
     "name": "stdout",
     "output_type": "stream",
     "text": [
      "pushes completed!\n"
     ]
    }
   ],
   "source": [
    "losses = []\n",
    "for step, batch in enumerate(train_loader):\n",
    "    input_ids = batch['input_ids'].to(device)\n",
    "    attention_mask = batch['attention_mask'].to(device)\n",
    "    batch_file_names = set(batch['files'])\n",
    "\n",
    "    # forward pass on CPU (no autocast)\n",
    "    # labels and input are same since GPT2LMHeadModel will perform shift internally \n",
    "    # if computing loss externally you will want to shift labels and pass to lossfn\n",
    "    outputs = model(input_ids=input_ids, attention_mask=attention_mask, labels=input_ids)\n",
    "    loss = outputs.loss\n",
    "\n",
    "    # Apply gradient accumulation\n",
    "    loss = loss / gradient_accumulation_steps\n",
    "    loss.backward()\n",
    "\n",
    "    if (step + 1) % gradient_accumulation_steps == 0:\n",
    "        optimizer.step()\n",
    "        optimizer.zero_grad()\n",
    "        global_step += 1\n",
    "\n",
    "        loss_to_log = loss.item() * gradient_accumulation_steps\n",
    "        losses.append(loss_to_log)\n",
    "        print(f\"Global step {global_step}, loss: {loss_to_log:.4f}\")\n",
    "\n",
    "        if global_step % 100 == 0:\n",
    "            save_checkpoint_metadata(\n",
    "                optimizer=optimizer, \n",
    "                step=global_step, \n",
    "                losses=losses, \n",
    "                batch_file=batch_file_names\n",
    "            )\n",
    "\n",
    "            print('Pushing to hub...')\n",
    "            push_model_and_state_to_hub(\n",
    "                model=model, \n",
    "                api=api, \n",
    "                step=global_step, \n",
    "                max_retries=3, \n",
    "                retry_delay=10\n",
    "            )\n",
    "\n",
    "if (step + 1) % gradient_accumulation_steps != 0:\n",
    "    # perform a final optimizer step to flush any remaining gradients\n",
    "    optimizer.step()\n",
    "    optimizer.zero_grad()\n",
    "    global_step += 1\n",
    "    print(f\"Performed final optimizer step to flush remaining gradients at global step {global_step}\")\n",
    "\n",
    "# final commit \n",
    "print(f'FIRST PASS COMPLETE AT STEP {step}')\n",
    "save_checkpoint_metadata(\n",
    "    optimizer=optimizer, \n",
    "    step=global_step, \n",
    "    losses=losses, \n",
    "    batch_file=batch_file_names\n",
    ")\n",
    "\n",
    "push_model_and_state_to_hub(\n",
    "    model=model, \n",
    "    api=api, \n",
    "    step=global_step, \n",
    "    max_retries=3, \n",
    "    retry_delay=10\n",
    ")"
   ]
  },
  {
   "cell_type": "markdown",
   "metadata": {},
   "source": [
    "### GPU Implementation"
   ]
  },
  {
   "cell_type": "code",
   "execution_count": null,
   "metadata": {},
   "outputs": [],
   "source": [
    "losses = []\n",
    "scaler = torch.amp.GradScaler(\"cuda\")\n",
    "\n",
    "for step, batch in enumerate(train_loader):\n",
    "    input_ids = batch['input_ids'].to(device)\n",
    "    attention_mask = batch['attention_mask'].to(device)\n",
    "    batch_file_names = set(batch['files'])\n",
    "\n",
    "    # for GPU\n",
    "    with torch.autocast(device_type=\"cuda\"):\n",
    "        # labels and input are same since GPT2LMHeadModel will perform shift internally \n",
    "        # if computing loss externally you will want to shift labels and pass to lossfn\n",
    "        outputs = model(input_ids=input_ids, attention_mask=attention_mask, labels=input_ids)\n",
    "        loss = outputs.loss\n",
    "\n",
    "    loss = loss / gradient_accumulation_steps\n",
    "    scaler.scale(loss).backward()\n",
    "\n",
    "    if (step + 1) % gradient_accumulation_steps == 0:\n",
    "        scaler.step(optimizer)\n",
    "        scaler.update()\n",
    "        optimizer.zero_grad()\n",
    "        global_step += 1\n",
    "\n",
    "        loss_to_log = loss.item() * gradient_accumulation_steps\n",
    "        losses.append(loss_to_log)\n",
    "        print(f\"Global step {global_step}, loss: {loss_to_log:.4f}\")\n",
    "\n",
    "        if global_step % 100 == 0:\n",
    "            commit_msg = f\"Checkpoint at step {global_step}\"\n",
    "            save_checkpoint_metadata(\n",
    "                optimizer=optimizer, \n",
    "                scaler=scaler,\n",
    "                step=global_step, \n",
    "                losses=losses, \n",
    "                batch_file=batch_file_names\n",
    "            )\n",
    "            \n",
    "            print('Pushing to hub...')\n",
    "            push_model_and_state_to_hub(\n",
    "                model=model, \n",
    "                api=api, \n",
    "                step=global_step, \n",
    "                max_retries=3, \n",
    "                retry_delay=10\n",
    "            )\n",
    "\n",
    "if (step + 1) % gradient_accumulation_steps != 0:\n",
    "    # Perform a final optimizer step to flush any remaining gradients\n",
    "    scaler.step(optimizer)\n",
    "    scaler.update()\n",
    "    optimizer.zero_grad()\n",
    "    global_step += 1\n",
    "    print(f\"Performed final optimizer step to flush remaining gradients at global step {global_step}\")\n",
    "    \n",
    "# final commit \n",
    "print(f'FIRST PASS COMPLETE AT STEP {step}')\n",
    "save_checkpoint_metadata(\n",
    "    optimizer=optimizer, \n",
    "    scaler=scaler,\n",
    "    step=global_step, \n",
    "    losses=losses, \n",
    "    batch_file=batch_file_names\n",
    ")\n",
    "\n",
    "push_model_and_state_to_hub(\n",
    "    model=model, \n",
    "    api=api, \n",
    "    step=global_step, \n",
    "    max_retries=3, \n",
    "    retry_delay=10\n",
    ")"
   ]
  },
  {
   "cell_type": "markdown",
   "metadata": {},
   "source": [
    "### ------------ Load Model From Checkpoint (HF-Hub) ------------"
   ]
  },
  {
   "cell_type": "code",
   "execution_count": 54,
   "metadata": {},
   "outputs": [],
   "source": [
    "# from huggingface_hub import hf_hub_download\n",
    "# from transformers import AutoModelForCausalLM\n",
    "\n",
    "# training_state_path = hf_hub_download(\n",
    "#     repo_id=\"cwestnedge/gpt2_pubmed_abstracts\", \n",
    "#     filename=\"training_state.pt\",\n",
    "#     token=hf_token\n",
    "# )\n",
    "\n",
    "# # Load the checkpoint\n",
    "# checkpoint = torch.load(training_state_path, map_location=torch.device('cpu'))\n",
    "\n",
    "# optimizer.load_state_dict(checkpoint['optimizer'])\n",
    "# global_step = checkpoint['global_step']\n",
    "# # scaler.load_state_dict(checkpoint['scaler']) # this will be for GPU only\n",
    "# loss = checkpoint['losses']\n",
    "# last_batch = checkpoint['batch_file']\n",
    "\n",
    "# model = AutoModelForCausalLM.from_pretrained(repo_name, token=hf_token)\n",
    "# model.to(device);"
   ]
  },
  {
   "cell_type": "code",
   "execution_count": null,
   "metadata": {},
   "outputs": [
    {
     "data": {
      "text/plain": [
       "[<matplotlib.lines.Line2D at 0x353602ff0>]"
      ]
     },
     "execution_count": 53,
     "metadata": {},
     "output_type": "execute_result"
    },
    {
     "data": {
      "image/png": "[encoded data removed]",
      "text/plain": [
       "<Figure size 640x480 with 1 Axes>"
      ]
     },
     "metadata": {},
     "output_type": "display_data"
    }
   ],
   "source": [
    "# import matplotlib.pyplot as plt\n",
    "# import pandas as pd\n",
    "\n",
    "# a = pd.Series(loss).rolling(20).mean()\n",
    "# plt.plot(a, alpha=.5)"
   ]
  },
  {
   "cell_type": "code",
   "execution_count": null,
   "metadata": {},
   "outputs": [],
   "source": []
  }
 ],
 "metadata": {
  "kernelspec": {
   "display_name": ".venv",
   "language": "python",
   "name": "python3"
  },
  "language_info": {
   "codemirror_mode": {
    "name": "ipython",
    "version": 3
   },
   "file_extension": ".py",
   "mimetype": "text/x-python",
   "name": "python",
   "nbconvert_exporter": "python",
   "pygments_lexer": "ipython3",
   "version": "3.12.7"
  }
 },
 "nbformat": 4,
 "nbformat_minor": 2
}
