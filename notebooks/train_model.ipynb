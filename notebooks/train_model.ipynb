{
 "cells": [
  {
   "cell_type": "code",
   "execution_count": null,
   "metadata": {},
   "outputs": [],
   "source": [
    "#! pip install torch transformers datasets scikit-learn"
   ]
  },
  {
   "cell_type": "code",
   "execution_count": null,
   "metadata": {},
   "outputs": [],
   "source": [
    "# import torch\n",
    "# torch.cuda.empty_cache()"
   ]
  },
  {
   "cell_type": "code",
   "execution_count": 27,
   "metadata": {},
   "outputs": [
    {
     "name": "stdout",
     "output_type": "stream",
     "text": [
      "--------------------------------------------------TRAIN--------------------------------------------------\n",
      "{'input_ids': tensor([[ 4366,  3048,   286,  ...,   897,   318, 20736],\n",
      "        [ 3519,   351, 14139,  ...,  2649,  5983,   284],\n",
      "        [20087,   286,   262,  ..., 30509,   351,  1579],\n",
      "        ...,\n",
      "        [ 4151,   286,  3487,  ...,    71, 31262,    13],\n",
      "        [ 9726,   671,   286,  ...,  1448,    13,   383],\n",
      "        [ 3891,   366,    45,  ..., 30309,    13, 15298]]), 'attention_mask': tensor([[1, 1, 1,  ..., 1, 1, 1],\n",
      "        [1, 1, 1,  ..., 1, 1, 1],\n",
      "        [1, 1, 1,  ..., 1, 1, 1],\n",
      "        ...,\n",
      "        [1, 1, 1,  ..., 1, 1, 1],\n",
      "        [1, 1, 1,  ..., 1, 1, 1],\n",
      "        [1, 1, 1,  ..., 1, 1, 1]]), 'labels': tensor([[ 4366,  3048,   286,  ...,   897,   318, 20736],\n",
      "        [ 3519,   351, 14139,  ...,  2649,  5983,   284],\n",
      "        [20087,   286,   262,  ..., 30509,   351,  1579],\n",
      "        ...,\n",
      "        [ 4151,   286,  3487,  ...,    71, 31262,    13],\n",
      "        [ 9726,   671,   286,  ...,  1448,    13,   383],\n",
      "        [ 3891,   366,    45,  ..., 30309,    13, 15298]])}\n",
      "torch.Size([8, 1024])\n"
     ]
    }
   ],
   "source": [
    "import torch, glob\n",
    "from torch.utils.data import IterableDataset, DataLoader\n",
    "from transformers import GPT2LMHeadModel\n",
    "\n",
    "class PTIterableDataset(IterableDataset):\n",
    "    def __init__(self, pt_files):\n",
    "        self.pt_files = pt_files\n",
    "    def __iter__(self):\n",
    "        for file_path in self.pt_files:\n",
    "            data = torch.load(file_path)\n",
    "            for i in range(data[\"input_ids\"].size(0)):\n",
    "                yield {\n",
    "                    \"input_ids\": data[\"input_ids\"][i],\n",
    "                    \"attention_mask\": data[\"attention_mask\"][i],\n",
    "                    \"labels\": data[\"labels\"][i]\n",
    "                }\n",
    "\n",
    "\n",
    "batch_size = 8\n",
    "train_files = sorted(glob.glob(\"../processed_batches/train/*.pt\"))\n",
    "test_files = sorted(glob.glob(\"../processed_batches/test/*.pt\"))\n",
    "\n",
    "train_loader = DataLoader(PTIterableDataset(train_files), batch_size=batch_size, num_workers=0)\n",
    "# test_loader = DataLoader(PTIterableDataset(test_files), batch_size=batch_size, num_workers=8)\n",
    "\n",
    "print('-'*50 + 'TRAIN' + '-'*50)\n",
    "train = next(iter(train_loader))\n",
    "print(train)\n",
    "print(train['input_ids'].shape)\n",
    "\n",
    "# print('-'*50 + 'TEST' + '-'*50)\n",
    "# test = next(iter(test_loader))\n",
    "# print(test)\n",
    "# print(test['input_ids'].shape)"
   ]
  },
  {
   "cell_type": "code",
   "execution_count": 28,
   "metadata": {},
   "outputs": [
    {
     "data": {
      "text/plain": [
       "OptimizedModule(\n",
       "  (_orig_mod): GPT2LMHeadModel(\n",
       "    (transformer): GPT2Model(\n",
       "      (wte): Embedding(50257, 768)\n",
       "      (wpe): Embedding(1024, 768)\n",
       "      (drop): Dropout(p=0.1, inplace=False)\n",
       "      (h): ModuleList(\n",
       "        (0-11): 12 x GPT2Block(\n",
       "          (ln_1): LayerNorm((768,), eps=1e-05, elementwise_affine=True)\n",
       "          (attn): GPT2Attention(\n",
       "            (c_attn): Conv1D(nf=2304, nx=768)\n",
       "            (c_proj): Conv1D(nf=768, nx=768)\n",
       "            (attn_dropout): Dropout(p=0.1, inplace=False)\n",
       "            (resid_dropout): Dropout(p=0.1, inplace=False)\n",
       "          )\n",
       "          (ln_2): LayerNorm((768,), eps=1e-05, elementwise_affine=True)\n",
       "          (mlp): GPT2MLP(\n",
       "            (c_fc): Conv1D(nf=3072, nx=768)\n",
       "            (c_proj): Conv1D(nf=768, nx=3072)\n",
       "            (act): NewGELUActivation()\n",
       "            (dropout): Dropout(p=0.1, inplace=False)\n",
       "          )\n",
       "        )\n",
       "      )\n",
       "      (ln_f): LayerNorm((768,), eps=1e-05, elementwise_affine=True)\n",
       "    )\n",
       "    (lm_head): Linear(in_features=768, out_features=50257, bias=False)\n",
       "  )\n",
       ")"
      ]
     },
     "execution_count": 28,
     "metadata": {},
     "output_type": "execute_result"
    }
   ],
   "source": [
    "model = torch.compile(GPT2LMHeadModel.from_pretrained(\"openai-community/gpt2\"))\n",
    "device = torch.device(\"cuda\" if torch.cuda.is_available() else \"cpu\")\n",
    "model.to(device)\n",
    "model.train()"
   ]
  },
  {
   "cell_type": "code",
   "execution_count": 30,
   "metadata": {},
   "outputs": [],
   "source": [
    "# output = model(**train)\n"
   ]
  },
  {
   "cell_type": "code",
   "execution_count": 31,
   "metadata": {},
   "outputs": [],
   "source": [
    "optimizer = torch.optim.AdamW(model.parameters(), lr=5e-5)\n",
    "gradient_accumulation_steps = 16\n",
    "num_epochs = 1\n",
    "global_step = 0"
   ]
  },
  {
   "cell_type": "code",
   "execution_count": 32,
   "metadata": {},
   "outputs": [
    {
     "data": {
      "text/plain": [
       "128"
      ]
     },
     "execution_count": 32,
     "metadata": {},
     "output_type": "execute_result"
    }
   ],
   "source": [
    "batch_size * gradient_accumulation_steps"
   ]
  },
  {
   "cell_type": "code",
   "execution_count": 33,
   "metadata": {},
   "outputs": [],
   "source": [
    "# import time \n",
    "# times = []\n",
    "# for i in range(2):\n",
    "#     t = time.time()\n",
    "#     with torch.autocast(device_type='cpu'):\n",
    "#         train = next(iter(train_loader))\n",
    "#         output = model(**train)\n",
    "#     times.append(time.time()-t)"
   ]
  },
  {
   "cell_type": "code",
   "execution_count": 34,
   "metadata": {},
   "outputs": [
    {
     "name": "stdout",
     "output_type": "stream",
     "text": [
      "Epoch 1/1\n"
     ]
    },
    {
     "ename": "",
     "evalue": "",
     "output_type": "error",
     "traceback": [
      "\u001b[1;31mThe Kernel crashed while executing code in the current cell or a previous cell. \n",
      "\u001b[1;31mPlease review the code in the cell(s) to identify a possible cause of the failure. \n",
      "\u001b[1;31mClick <a href='https://aka.ms/vscodeJupyterKernelCrash'>here</a> for more info. \n",
      "\u001b[1;31mView Jupyter <a href='command:jupyter.viewOutput'>log</a> for further details."
     ]
    }
   ],
   "source": [
    "for epoch in range(num_epochs):\n",
    "    print(f\"Epoch {epoch+1}/{num_epochs}\")\n",
    "    optimizer.zero_grad()\n",
    "    \n",
    "    for step, batch in enumerate(train_loader):\n",
    "        # Move batch data to device\n",
    "        input_ids = batch[\"input_ids\"].to(device)\n",
    "        attention_mask = batch[\"attention_mask\"].to(device)\n",
    "        labels = batch[\"labels\"].to(device)\n",
    "        \n",
    "        # with no precision\n",
    "        outputs = model(input_ids=input_ids, attention_mask=attention_mask, labels=labels)\n",
    "        loss = outputs.loss\n",
    "\n",
    "        # Mixed precision forward pass (if on CPU with bfloat16) doesnt seem to work on cpu\n",
    "        # If on GPU, do: with torch.cuda.amp.autocast():\n",
    "        # with torch.autocast(device_type='cpu'):\n",
    "        #     outputs = model(input_ids=input_ids, attention_mask=attention_mask, labels=labels)\n",
    "        #     loss = outputs.loss\n",
    "        \n",
    "        # Scale loss by accumulation steps\n",
    "        loss = loss / gradient_accumulation_steps\n",
    "        \n",
    "        # Backward pass\n",
    "        loss.backward()\n",
    "        \n",
    "        # Perform optimizer step every gradient_accumulation_steps iterations\n",
    "        if (step + 1) % gradient_accumulation_steps == 0:\n",
    "            # Clip gradients to avoid exploding gradients\n",
    "            torch.nn.utils.clip_grad_norm_(model.parameters(), max_norm=1.0)\n",
    "            optimizer.step()\n",
    "            optimizer.zero_grad()\n",
    "            global_step += 1\n",
    "            print(f\"Global step {global_step}, loss: {loss.item() * gradient_accumulation_steps:.4f}\")\n",
    "        \n",
    "    # If there are remaining gradients in case the number of batches isn't divisible\n",
    "    if (step + 1) % gradient_accumulation_steps != 0:\n",
    "        # Clip gradients for the final update of this epoch\n",
    "        torch.nn.utils.clip_grad_norm_(model.parameters(), max_norm=1.0)\n",
    "        optimizer.step()\n",
    "        optimizer.zero_grad()\n",
    "        global_step += 1\n",
    "        print(f\"Global step {global_step} (final update this epoch)\")\n"
   ]
  },
  {
   "cell_type": "code",
   "execution_count": null,
   "metadata": {},
   "outputs": [],
   "source": []
  }
 ],
 "metadata": {
  "kernelspec": {
   "display_name": ".venv",
   "language": "python",
   "name": "python3"
  },
  "language_info": {
   "codemirror_mode": {
    "name": "ipython",
    "version": 3
   },
   "file_extension": ".py",
   "mimetype": "text/x-python",
   "name": "python",
   "nbconvert_exporter": "python",
   "pygments_lexer": "ipython3",
   "version": "3.13.0"
  }
 },
 "nbformat": 4,
 "nbformat_minor": 2
}
