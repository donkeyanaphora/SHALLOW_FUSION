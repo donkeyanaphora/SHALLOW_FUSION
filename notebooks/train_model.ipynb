{
 "cells": [
  {
   "cell_type": "code",
   "execution_count": null,
   "metadata": {},
   "outputs": [],
   "source": [
    "#! pip install torch transformers datasets ipywidgets"
   ]
  },
  {
   "cell_type": "code",
   "execution_count": 2,
   "metadata": {},
   "outputs": [
    {
     "name": "stdout",
     "output_type": "stream",
     "text": [
      "--------------------------------------------------TRAIN--------------------------------------------------\n",
      "{'input_ids': tensor([[ 4366,  3048,   286,  ...,   897,   318, 20736],\n",
      "        [ 3519,   351, 14139,  ...,  2649,  5983,   284],\n",
      "        [20087,   286,   262,  ..., 30509,   351,  1579],\n",
      "        ...,\n",
      "        [  286, 47880,  2611,  ..., 26084,  1161,    13],\n",
      "        [  554,  1502,   284,  ...,   391,    12, 30176],\n",
      "        [  290,    12,  1040,  ...,   422,  5827,   284]]), 'attention_mask': tensor([[1, 1, 1,  ..., 1, 1, 1],\n",
      "        [1, 1, 1,  ..., 1, 1, 1],\n",
      "        [1, 1, 1,  ..., 1, 1, 1],\n",
      "        ...,\n",
      "        [1, 1, 1,  ..., 1, 1, 1],\n",
      "        [1, 1, 1,  ..., 1, 1, 1],\n",
      "        [1, 1, 1,  ..., 1, 1, 1]]), 'labels': tensor([[ 4366,  3048,   286,  ...,   897,   318, 20736],\n",
      "        [ 3519,   351, 14139,  ...,  2649,  5983,   284],\n",
      "        [20087,   286,   262,  ..., 30509,   351,  1579],\n",
      "        ...,\n",
      "        [  286, 47880,  2611,  ..., 26084,  1161,    13],\n",
      "        [  554,  1502,   284,  ...,   391,    12, 30176],\n",
      "        [  290,    12,  1040,  ...,   422,  5827,   284]])}\n",
      "torch.Size([16, 1024])\n"
     ]
    }
   ],
   "source": [
    "import torch, glob\n",
    "from torch.utils.data import IterableDataset, DataLoader\n",
    "from transformers import GPT2LMHeadModel\n",
    "\n",
    "class PTIterableDataset(IterableDataset):\n",
    "    def __init__(self, pt_files):\n",
    "        self.pt_files = pt_files\n",
    "    def __iter__(self):\n",
    "        for file_path in self.pt_files:\n",
    "            data = torch.load(file_path)\n",
    "            for i in range(data[\"input_ids\"].size(0)):\n",
    "                yield {\n",
    "                    \"input_ids\": data[\"input_ids\"][i],\n",
    "                    \"attention_mask\": data[\"attention_mask\"][i],\n",
    "                    \"labels\": data[\"labels\"][i]\n",
    "                }\n",
    "\n",
    "\n",
    "batch_size = 16\n",
    "train_files = sorted(glob.glob(\"../processed_batches/train/*.pt\"))\n",
    "test_files = sorted(glob.glob(\"../processed_batches/test/*.pt\"))\n",
    "\n",
    "train_loader = DataLoader(PTIterableDataset(train_files), batch_size=batch_size, num_workers=0)\n",
    "# test_loader = DataLoader(PTIterableDataset(test_files), batch_size=batch_size, num_workers=8)\n",
    "\n",
    "print('-'*50 + 'TRAIN' + '-'*50)\n",
    "train = next(iter(train_loader))\n",
    "print(train)\n",
    "print(train['input_ids'].shape)\n",
    "\n",
    "# print('-'*50 + 'TEST' + '-'*50)\n",
    "# test = next(iter(test_loader))\n",
    "# print(test)\n",
    "# print(test['input_ids'].shape)"
   ]
  },
  {
   "cell_type": "code",
   "execution_count": null,
   "metadata": {},
   "outputs": [
    {
     "name": "stderr",
     "output_type": "stream",
     "text": [
      "/Users/collinswestnedge/Desktop/programming/SHALLOW_FUSION/.venv/lib/python3.13/site-packages/torch/amp/grad_scaler.py:132: UserWarning: torch.cuda.amp.GradScaler is enabled, but CUDA is not available.  Disabling.\n",
      "  warnings.warn(\n"
     ]
    }
   ],
   "source": [
    "model = torch.compile(GPT2LMHeadModel.from_pretrained(\"openai-community/gpt2\"))\n",
    "device = torch.device(\"cuda\" if torch.cuda.is_available() else \"cpu\")\n",
    "model.to(device)\n",
    "model.train()\n",
    "\n",
    "optimizer = torch.optim.AdamW(\n",
    "    model.parameters(),\n",
    "    lr=1e-4, # 1e-4 for 16x16 # maybe 8e-5 for 1024\n",
    "    )\n",
    "\n",
    "gradient_accumulation_steps = 16\n",
    "num_epochs = 1\n",
    "global_step = 0"
   ]
  },
  {
   "cell_type": "code",
   "execution_count": 4,
   "metadata": {},
   "outputs": [
    {
     "data": {
      "text/plain": [
       "256"
      ]
     },
     "execution_count": 4,
     "metadata": {},
     "output_type": "execute_result"
    }
   ],
   "source": [
    "batch_size * gradient_accumulation_steps"
   ]
  },
  {
   "cell_type": "markdown",
   "metadata": {},
   "source": [
    "### Login to hub to save off model"
   ]
  },
  {
   "cell_type": "code",
   "execution_count": null,
   "metadata": {},
   "outputs": [],
   "source": [
    "import getpass\n",
    "import os \n",
    "\n",
    "hf_token = getpass.getpass(\"Enter your Hugging Face token: \")\n",
    "os.environ[\"HF_TOKEN\"] = hf_token\n",
    "repo_name  = \"cwestnedge/gpt2_pubmed\""
   ]
  },
  {
   "cell_type": "markdown",
   "metadata": {},
   "source": [
    "### CPU Implementation (for testing do not recommend)"
   ]
  },
  {
   "cell_type": "code",
   "execution_count": null,
   "metadata": {},
   "outputs": [],
   "source": [
    "losses = []\n",
    "\n",
    "for step, batch in enumerate(train_loader):\n",
    "    input_ids = batch['input_ids'].to(device)\n",
    "    attention_mask = batch['attention_mask'].to(device)\n",
    "    labels = batch['labels'].to(device)\n",
    "\n",
    "    # Forward pass on CPU (no autocast)\n",
    "    outputs = model(input_ids=input_ids, attention_mask=attention_mask, labels=labels)\n",
    "    loss = outputs.loss\n",
    "\n",
    "    # Apply gradient accumulation\n",
    "    loss = loss / gradient_accumulation_steps\n",
    "    loss.backward()\n",
    "\n",
    "    if (step + 1) % gradient_accumulation_steps == 0:\n",
    "        optimizer.step()\n",
    "        optimizer.zero_grad()\n",
    "        global_step += 1\n",
    "\n",
    "        loss_to_log = loss.item() * gradient_accumulation_steps\n",
    "        losses.append(loss_to_log)\n",
    "        print(f\"Global step {global_step}, loss: {loss_to_log:.4f}\")\n",
    "\n",
    "        if global_step % 50 == 0:\n",
    "            commit_msg = f\"Checkpoint at step {global_step}\"\n",
    "            model.push_to_hub(repo_name, commit_message=commit_msg)\n",
    "\n",
    "# final commit \n",
    "final_commit_msg = \"Final model\"\n",
    "model.push_to_hub(repo_name, commit_message=final_commit_msg)\n"
   ]
  },
  {
   "cell_type": "markdown",
   "metadata": {},
   "source": [
    "### GPU Implementation"
   ]
  },
  {
   "cell_type": "code",
   "execution_count": null,
   "metadata": {},
   "outputs": [],
   "source": [
    "losses = []\n",
    "scaler = torch.amp.GradScaler(\"cuda\")\n",
    "\n",
    "for step, batch in enumerate(train_loader):\n",
    "    input_ids = batch['input_ids'].to(device)\n",
    "    attention_mask = batch['attention_mask'].to(device)\n",
    "    labels = batch['labels'].to(device)\n",
    "\n",
    "    # for GPU\n",
    "    with torch.autocast(device_type=\"cuda\"):\n",
    "        outputs = model(input_ids=input_ids, attention_mask=attention_mask, labels=labels)\n",
    "        loss = outputs.loss\n",
    "\n",
    "    loss = loss / gradient_accumulation_steps\n",
    "    scaler.scale(loss).backward()\n",
    "\n",
    "    if (step + 1) % gradient_accumulation_steps == 0:\n",
    "        scaler.step(optimizer)\n",
    "        scaler.update()\n",
    "        optimizer.zero_grad()\n",
    "        global_step += 1\n",
    "\n",
    "        loss_to_log = loss.item() * gradient_accumulation_steps\n",
    "        losses.append(loss_to_log)\n",
    "        print(f\"Global step {global_step}, loss: {loss_to_log:.4f}\")\n",
    "\n",
    "        if global_step % 50 == 0:\n",
    "            commit_msg = f\"Checkpoint at step {global_step}\"\n",
    "            model.push_to_hub(repo_name, commit_message=commit_msg)\n",
    "\n",
    "# final commit \n",
    "final_commit_msg = \"Final model\"\n",
    "model.push_to_hub(repo_name, commit_message=final_commit_msg)\n"
   ]
  },
  {
   "cell_type": "code",
   "execution_count": null,
   "metadata": {},
   "outputs": [],
   "source": []
  }
 ],
 "metadata": {
  "kernelspec": {
   "display_name": ".venv",
   "language": "python",
   "name": "python3"
  },
  "language_info": {
   "codemirror_mode": {
    "name": "ipython",
    "version": 3
   },
   "file_extension": ".py",
   "mimetype": "text/x-python",
   "name": "python",
   "nbconvert_exporter": "python",
   "pygments_lexer": "ipython3",
   "version": "3.13.0"
  }
 },
 "nbformat": 4,
 "nbformat_minor": 2
}
