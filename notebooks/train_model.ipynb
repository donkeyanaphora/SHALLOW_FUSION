{
 "cells": [
  {
   "cell_type": "code",
   "execution_count": null,
   "metadata": {},
   "outputs": [],
   "source": [
    "# ! pip install torch transformers datasets tqdm\n",
    "# ! pip install lxml"
   ]
  },
  {
   "cell_type": "code",
   "execution_count": null,
   "metadata": {},
   "outputs": [
    {
     "name": "stderr",
     "output_type": "stream",
     "text": [
      "/Users/collinswestnedge/Desktop/programming/git_hub/.venv/lib/python3.12/site-packages/tqdm/auto.py:21: TqdmWarning: IProgress not found. Please update jupyter and ipywidgets. See https://ipywidgets.readthedocs.io/en/stable/user_install.html\n",
      "  from .autonotebook import tqdm as notebook_tqdm\n"
     ]
    },
    {
     "name": "stdout",
     "output_type": "stream",
     "text": [
      "--------------------------------------------------TRAIN--------------------------------------------------\n",
      "{'input_ids': tensor([[ 1925,  5889,   286,  ...,   274,  2983,  3421],\n",
      "        [  739,  4096,  3403,  ...,   349,   415, 39422],\n",
      "        [  357,    57,  3535,  ..., 10280,    13,   317],\n",
      "        ...,\n",
      "        [ 3060,   653,   286,  ...,  2785,  7016,  1575],\n",
      "        [  284,   262,  5827,  ...,     8,   290,   362],\n",
      "        [   79,     7,    88,  ...,   286, 10897,    12]]), 'attention_mask': tensor([[1, 1, 1,  ..., 1, 1, 1],\n",
      "        [1, 1, 1,  ..., 1, 1, 1],\n",
      "        [1, 1, 1,  ..., 1, 1, 1],\n",
      "        ...,\n",
      "        [1, 1, 1,  ..., 1, 1, 1],\n",
      "        [1, 1, 1,  ..., 1, 1, 1],\n",
      "        [1, 1, 1,  ..., 1, 1, 1]]), 'labels': tensor([[ 1925,  5889,   286,  ...,   274,  2983,  3421],\n",
      "        [  739,  4096,  3403,  ...,   349,   415, 39422],\n",
      "        [  357,    57,  3535,  ..., 10280,    13,   317],\n",
      "        ...,\n",
      "        [ 3060,   653,   286,  ...,  2785,  7016,  1575],\n",
      "        [  284,   262,  5827,  ...,     8,   290,   362],\n",
      "        [   79,     7,    88,  ...,   286, 10897,    12]])}\n",
      "torch.Size([16, 1024])\n"
     ]
    }
   ],
   "source": [
    "import torch, glob\n",
    "from torch.utils.data import IterableDataset, DataLoader\n",
    "from transformers import GPT2LMHeadModel\n",
    "\n",
    "class PTIterableDataset(IterableDataset):\n",
    "    def __init__(self, pt_files):\n",
    "        self.pt_files = pt_files\n",
    "    def __iter__(self):\n",
    "        for file_path in self.pt_files:\n",
    "            data = torch.load(file_path)\n",
    "            for i in range(data[\"input_ids\"].size(0)):\n",
    "                yield {\n",
    "                    \"input_ids\": data[\"input_ids\"][i],\n",
    "                    \"attention_mask\": data[\"attention_mask\"][i],\n",
    "                    \"labels\": data[\"labels\"][i]\n",
    "                }\n",
    "\n",
    "\n",
    "# torch.cuda.empty_cache()\n",
    "\n",
    "batch_size = 16\n",
    "train_files = sorted(glob.glob(\"../processed_batches/train/*.pt\"))\n",
    "test_files = sorted(glob.glob(\"../processed_batches/test/*.pt\"))\n",
    "\n",
    "train_loader = DataLoader(PTIterableDataset(train_files), batch_size=batch_size, num_workers=0)\n",
    "# test_loader = DataLoader(PTIterableDataset(test_files), batch_size=batch_size, num_workers=8)\n",
    "\n",
    "print('-'*50 + 'TRAIN' + '-'*50)\n",
    "train = next(iter(train_loader))\n",
    "print(train)\n",
    "print(train['input_ids'].shape)\n",
    "\n",
    "# print('-'*50 + 'TEST' + '-'*50)\n",
    "# test = next(iter(test_loader))\n",
    "# print(test)\n",
    "# print(test['input_ids'].shape)"
   ]
  },
  {
   "cell_type": "code",
   "execution_count": 22,
   "metadata": {},
   "outputs": [],
   "source": [
    "model = torch.compile(GPT2LMHeadModel.from_pretrained(\"openai-community/gpt2\"))\n",
    "device = torch.device(\"cuda\" if torch.cuda.is_available() else \"cpu\")\n",
    "model.to(device)\n",
    "model.train()\n",
    "\n",
    "optimizer = torch.optim.AdamW(\n",
    "    model.parameters(),\n",
    "    lr=1e-4, # 1e-4 for 16x16 # maybe 8e-5 for 1024\n",
    "    )\n",
    "\n",
    "gradient_accumulation_steps = 16\n",
    "num_epochs = 1\n",
    "global_step = 0"
   ]
  },
  {
   "cell_type": "code",
   "execution_count": 23,
   "metadata": {},
   "outputs": [
    {
     "data": {
      "text/plain": [
       "256"
      ]
     },
     "execution_count": 23,
     "metadata": {},
     "output_type": "execute_result"
    }
   ],
   "source": [
    "batch_size * gradient_accumulation_steps"
   ]
  },
  {
   "cell_type": "markdown",
   "metadata": {},
   "source": [
    "### Login to hub to save off model"
   ]
  },
  {
   "cell_type": "code",
   "execution_count": 6,
   "metadata": {},
   "outputs": [],
   "source": [
    "from huggingface_hub import HfApi\n",
    "import getpass\n",
    "import os \n",
    "\n",
    "hf_token = getpass.getpass(\"Enter your Hugging Face token: \")\n",
    "os.environ[\"HF_TOKEN\"] = hf_token\n",
    "repo_name  = \"cwestnedge/gpt2_pubmed_abstracts\"\n",
    "api = HfApi(token=os.environ[\"HF_TOKEN\"])"
   ]
  },
  {
   "cell_type": "code",
   "execution_count": 16,
   "metadata": {},
   "outputs": [],
   "source": [
    "def save_and_push_training_state(model, step, optimizer, losses, repo_name, api, commit_msg, scaler=None):\n",
    "    # Save optimizer state and training progress\n",
    "    checkpoint = {\n",
    "        'optimizer': optimizer.state_dict(),\n",
    "        'global_step': step,\n",
    "        'losses': losses\n",
    "    }\n",
    "    \n",
    "    if scaler is not None:\n",
    "        checkpoint['scaler'] = scaler.state_dict()\n",
    "\n",
    "    # Save locally first\n",
    "    torch.save(checkpoint, \"training_state.pt\")\n",
    "    \n",
    "    # Push model to hub as you're already doing\n",
    "    commit_msg = f\"Checkpoint at step {step}\"\n",
    "    model.push_to_hub(repo_name, commit_message=commit_msg)\n",
    "    \n",
    "    # Push training state separately\n",
    "    api.upload_file(\n",
    "        path_or_fileobj=\"training_state.pt\",\n",
    "        path_in_repo=\"training_state.pt\",\n",
    "        repo_id=repo_name,\n",
    "        commit_message=f\"Training state at step {step}\"\n",
    "    )"
   ]
  },
  {
   "cell_type": "markdown",
   "metadata": {},
   "source": [
    "### CPU Implementation (for testing do not recommend)"
   ]
  },
  {
   "cell_type": "code",
   "execution_count": null,
   "metadata": {},
   "outputs": [],
   "source": [
    "losses = []\n",
    "\n",
    "for step, batch in enumerate(train_loader):\n",
    "    input_ids = batch['input_ids'].to(device)\n",
    "    attention_mask = batch['attention_mask'].to(device)\n",
    "    labels = batch['labels'].to(device)\n",
    "\n",
    "    # Forward pass on CPU (no autocast)\n",
    "    outputs = model(input_ids=input_ids, attention_mask=attention_mask, labels=labels)\n",
    "    loss = outputs.loss\n",
    "\n",
    "    # Apply gradient accumulation\n",
    "    loss = loss / gradient_accumulation_steps\n",
    "    loss.backward()\n",
    "\n",
    "    if (step + 1) % gradient_accumulation_steps == 0:\n",
    "        optimizer.step()\n",
    "        optimizer.zero_grad()\n",
    "        global_step += 1\n",
    "\n",
    "        loss_to_log = loss.item() * gradient_accumulation_steps\n",
    "        losses.append(loss_to_log)\n",
    "        print(f\"Global step {global_step}, loss: {loss_to_log:.4f}\")\n",
    "\n",
    "        if global_step % 1 == 0:\n",
    "\n",
    "            commit_msg = f\"Checkpoint at step {global_step}\"\n",
    "            save_and_push_training_state(\n",
    "                model=model,\n",
    "                optimizer=optimizer,\n",
    "                step=global_step,\n",
    "                losses=losses,\n",
    "                repo_name=repo_name,\n",
    "                api=api,\n",
    "                commit_msg=commit_msg\n",
    "            )\n",
    "\n",
    "# final commit \n",
    "final_commit_msg = \"Final model\"\n",
    "save_and_push_training_state(\n",
    "    model=model,\n",
    "    optimizer=optimizer,\n",
    "    step=global_step,\n",
    "    losses=losses,\n",
    "    repo_name=repo_name,\n",
    "    api=api,\n",
    "    commit_msg=final_commit_msg\n",
    ")\n"
   ]
  },
  {
   "cell_type": "markdown",
   "metadata": {},
   "source": [
    "### GPU Implementation"
   ]
  },
  {
   "cell_type": "code",
   "execution_count": null,
   "metadata": {},
   "outputs": [],
   "source": [
    "losses = []\n",
    "scaler = torch.amp.GradScaler(\"cuda\")\n",
    "\n",
    "for step, batch in enumerate(train_loader):\n",
    "    input_ids = batch['input_ids'].to(device)\n",
    "    attention_mask = batch['attention_mask'].to(device)\n",
    "    labels = batch['labels'].to(device)\n",
    "\n",
    "    # for GPU\n",
    "    with torch.autocast(device_type=\"cuda\"):\n",
    "        outputs = model(input_ids=input_ids, attention_mask=attention_mask, labels=labels)\n",
    "        loss = outputs.loss\n",
    "\n",
    "    loss = loss / gradient_accumulation_steps\n",
    "    scaler.scale(loss).backward()\n",
    "\n",
    "    if (step + 1) % gradient_accumulation_steps == 0:\n",
    "        scaler.step(optimizer)\n",
    "        scaler.update()\n",
    "        optimizer.zero_grad()\n",
    "        global_step += 1\n",
    "\n",
    "        loss_to_log = loss.item() * gradient_accumulation_steps\n",
    "        losses.append(loss_to_log)\n",
    "        print(f\"Global step {global_step}, loss: {loss_to_log:.4f}\")\n",
    "\n",
    "        if global_step % 50 == 0:\n",
    "            commit_msg = f\"Checkpoint at step {global_step}\"\n",
    "            save_and_push_training_state(\n",
    "                model=model,\n",
    "                optimizer=optimizer,\n",
    "                global_step=global_step,\n",
    "                losses=losses,\n",
    "                scaler= scaler,\n",
    "                repo_name=repo_name,\n",
    "                api=api,\n",
    "                commit_msg=commit_msg\n",
    "            )\n",
    "\n",
    "# final commit \n",
    "final_commit_msg = \"Final model\"\n",
    "save_and_push_training_state(\n",
    "    model=model,\n",
    "    optimizer=optimizer,\n",
    "    step=global_step,\n",
    "    losses=losses,\n",
    "    scaler= scaler,\n",
    "    repo_name=repo_name,\n",
    "    api=api,\n",
    "    commit_msg=commit_msg\n",
    ")"
   ]
  },
  {
   "cell_type": "markdown",
   "metadata": {},
   "source": [
    "### ------------ Load Model From Checkpoint (HF-Hub) ------------"
   ]
  },
  {
   "cell_type": "code",
   "execution_count": null,
   "metadata": {},
   "outputs": [],
   "source": [
    "# from huggingface_hub import hf_hub_download\n",
    "\n",
    "# training_state_path = hf_hub_download(\n",
    "#     repo_id=repo_name, \n",
    "#     filename=\"training_state.pt\",\n",
    "#     token=hf_token\n",
    "# )\n",
    "\n",
    "# # Load the checkpoint\n",
    "# checkpoint = torch.load(training_state_path)\n",
    "\n",
    "# global_step = checkpoint['global_step']\n",
    "# optimizer.load_state_dict(checkpoint['optimizer'])\n",
    "# scaler.load_state_dict(checkpoint['scaler']) # this will be for GPU only\n",
    "# losses = checkpoint['losses']"
   ]
  },
  {
   "cell_type": "code",
   "execution_count": 21,
   "metadata": {},
   "outputs": [],
   "source": [
    "# from transformers import AutoModelForCausalLM\n",
    "# model = AutoModelForCausalLM.from_pretrained(repo_name, token=hf_token)\n",
    "# model.to(device)"
   ]
  },
  {
   "cell_type": "code",
   "execution_count": null,
   "metadata": {},
   "outputs": [],
   "source": []
  }
 ],
 "metadata": {
  "kernelspec": {
   "display_name": ".venv",
   "language": "python",
   "name": "python3"
  },
  "language_info": {
   "codemirror_mode": {
    "name": "ipython",
    "version": 3
   },
   "file_extension": ".py",
   "mimetype": "text/x-python",
   "name": "python",
   "nbconvert_exporter": "python",
   "pygments_lexer": "ipython3",
   "version": "3.12.7"
  }
 },
 "nbformat": 4,
 "nbformat_minor": 2
}
